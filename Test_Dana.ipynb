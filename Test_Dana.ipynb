{
 "cells": [
  {
   "cell_type": "code",
   "execution_count": 105,
   "metadata": {},
   "outputs": [
    {
     "name": "stdout",
     "output_type": "stream",
     "text": [
      "Jumlah kolom: 278932\n",
      "                         transaction_id user_id  transaction_amount  \\\n",
      "0  4a71b7d1-34fa-45cf-b40a-a730d16ce617  U10578             23500.0   \n",
      "1  b29665c0-8373-4ec1-a121-a041c77ffb51  U08353            150500.0   \n",
      "2  3e32187b-b374-4f1b-a64e-b1ebcc856563  U04564             65800.0   \n",
      "3  df8ad42e-aaf6-46d2-8d8f-1e291a4554bd  U22797             45600.0   \n",
      "4  334468df-4d71-4e4a-935c-32c17c306611  U18053              8500.0   \n",
      "\n",
      "  transaction_date merchant_id               merchant_name  \\\n",
      "0       2024-05-09      M04936                     Cox Inc   \n",
      "1       2024-05-30      M06359      King, Rice and Ramirez   \n",
      "2       2024-03-08      M01710  Lyons, Porter and Williams   \n",
      "3       2024-05-14      M02852                   Smith Ltd   \n",
      "4       2024-04-09      M00722                  Bush Group   \n",
      "\n",
      "   merchant_category_id           geo_location payment_method  \\\n",
      "0                  5732  -7.974781, 112.633863        balance   \n",
      "1                  5812  -6.188155, 106.817086        balance   \n",
      "2                  5812  -7.962043, 112.637274    credit_card   \n",
      "3                  5411  -6.592793, 106.806543        balance   \n",
      "4                  5411  -6.269386, 106.979043        balance   \n",
      "\n",
      "                                  user_agent loyalty_program discount_applied  \\\n",
      "0                                  Android 9              no               no   \n",
      "1  iPhone; CPU iPhone OS 3_1_3 like Mac OS X              no               no   \n",
      "2                              Android 2.0.1              no               no   \n",
      "3      iPad; CPU iPad OS 9_3_5 like Mac OS X              no               no   \n",
      "4                              Android 2.0.1             yes               no   \n",
      "\n",
      "   promo_amount transaction_notes  merchant_rating transaction_status  \\\n",
      "0           0.0                no                5          completed   \n",
      "1           0.0               yes                2          completed   \n",
      "2           0.0                no                3          completed   \n",
      "3           0.0                no                3          completed   \n",
      "4           0.0                no                4          completed   \n",
      "\n",
      "  is_refunded  \n",
      "0          no  \n",
      "1          no  \n",
      "2          no  \n",
      "3          no  \n",
      "4          no  \n"
     ]
    }
   ],
   "source": [
    "import pandas as pd\n",
    "import re\n",
    "file = \"transactions.csv\"\n",
    "df = pd.read_csv(file)\n",
    "num = len(df)\n",
    "print(f\"Jumlah kolom: {num}\")\n",
    "print(df.head())"
   ]
  },
  {
   "cell_type": "code",
   "execution_count": 24,
   "metadata": {},
   "outputs": [
    {
     "name": "stdout",
     "output_type": "stream",
     "text": [
      "Mean (Rata-rata) Transaction Amount: 500983.0137811366\n",
      "Median Transaction Amount: 10000\n",
      "Min Transaction Amount: 348000.0\n",
      "Max Transaction Amount: 5871000\n"
     ]
    }
   ],
   "source": [
    "mean_transaction_amount = df['transaction_amount'].mean()\n",
    "min_transaction_amount = df['transaction_amount'].min()\n",
    "median_transaction_amount = df['transaction_amount'].median()\n",
    "max_transaction_amount = df['transaction_amount'].max()\n",
    "print(f'Mean (Rata-rata) Transaction Amount: {mean_transaction_amount}')\n",
    "print(f'Median Transaction Amount: {min_transaction_amount}')\n",
    "print(f'Min Transaction Amount: {median_transaction_amount}')\n",
    "print(f'Max Transaction Amount: {max_transaction_amount}')"
   ]
  },
  {
   "cell_type": "code",
   "execution_count": 12,
   "metadata": {},
   "outputs": [
    {
     "name": "stdout",
     "output_type": "stream",
     "text": [
      "  user_id  transaction_count   income_level\n",
      "0  U00001                 11    High Income\n",
      "1  U00002                 10  Medium Income\n",
      "2  U00003                 11    High Income\n",
      "3  U00004                  9  Medium Income\n",
      "4  U00005                 10  Medium Income\n"
     ]
    }
   ],
   "source": [
    "freq_df = df.groupby('user_id')['transaction_date'].count().reset_index(name='transaction_count')\n",
    "freq_df['income_level'] = pd.cut(freq_df['transaction_count'], bins=[0, 5, 10, float('inf')],\n",
    "                                 labels=['Low Income', 'Medium Income', 'High Income'])\n",
    "print(freq_df.head())\n"
   ]
  },
  {
   "cell_type": "markdown",
   "metadata": {},
   "source": [
    "Cek Missing Value dan Duplicated Data"
   ]
  },
  {
   "cell_type": "code",
   "execution_count": 11,
   "metadata": {},
   "outputs": [
    {
     "name": "stdout",
     "output_type": "stream",
     "text": [
      "transaction_id          0\n",
      "user_id                 0\n",
      "transaction_amount      0\n",
      "transaction_date        0\n",
      "merchant_id             0\n",
      "merchant_name           0\n",
      "merchant_category_id    0\n",
      "geo_location            0\n",
      "payment_method          0\n",
      "user_agent              0\n",
      "loyalty_program         0\n",
      "discount_applied        0\n",
      "promo_amount            0\n",
      "transaction_notes       0\n",
      "merchant_rating         0\n",
      "transaction_status      0\n",
      "is_refunded             0\n",
      "dtype: int64\n",
      "Duplicate data :  0\n"
     ]
    }
   ],
   "source": [
    "print(df.isnull().sum())\n",
    "print(f\"Duplicate data :  {df.duplicated().sum()}\")"
   ]
  },
  {
   "cell_type": "markdown",
   "metadata": {},
   "source": [
    "Ubah Transaction_date menjadi Hari"
   ]
  },
  {
   "cell_type": "code",
   "execution_count": 4,
   "metadata": {},
   "outputs": [
    {
     "name": "stdout",
     "output_type": "stream",
     "text": [
      "<bound method NDFrame.head of        transaction_date transaction_day\n",
      "0            2024-05-09        Thursday\n",
      "1            2024-05-30        Thursday\n",
      "2            2024-03-08          Friday\n",
      "3            2024-05-14         Tuesday\n",
      "4            2024-04-09         Tuesday\n",
      "...                 ...             ...\n",
      "278927       2024-05-15       Wednesday\n",
      "278928       2024-05-01       Wednesday\n",
      "278929       2024-04-15          Monday\n",
      "278930       2024-05-11        Saturday\n",
      "278931       2024-05-10          Friday\n",
      "\n",
      "[278932 rows x 2 columns]>\n"
     ]
    },
    {
     "ename": "",
     "evalue": "",
     "output_type": "error",
     "traceback": [
      "\u001b[1;31mThe Kernel crashed while executing code in the current cell or a previous cell. \n",
      "\u001b[1;31mPlease review the code in the cell(s) to identify a possible cause of the failure. \n",
      "\u001b[1;31mClick <a href='https://aka.ms/vscodeJupyterKernelCrash'>here</a> for more info. \n",
      "\u001b[1;31mView Jupyter <a href='command:jupyter.viewOutput'>log</a> for further details."
     ]
    }
   ],
   "source": [
    "df['transaction_date'] = pd.to_datetime(df['transaction_date'], format='%Y-%m-%d')\n",
    "df['transaction_day'] = df['transaction_date'].dt.day_name()\n",
    "print(df[['transaction_date', 'transaction_day']].head)"
   ]
  },
  {
   "cell_type": "code",
   "execution_count": 4,
   "metadata": {},
   "outputs": [
    {
     "name": "stdout",
     "output_type": "stream",
     "text": [
      "Total user_id unik: 24321\n"
     ]
    }
   ],
   "source": [
    "unique_user_count = df['user_id'].nunique()\n",
    "print(f\"Total user_id unik: {unique_user_count}\")"
   ]
  },
  {
   "cell_type": "code",
   "execution_count": 49,
   "metadata": {},
   "outputs": [
    {
     "name": "stdout",
     "output_type": "stream",
     "text": [
      "  user_id  total_amount  transaction_count  avg_transaction  loyalty_used  \\\n",
      "0  U00001       5146000                 11    467818.181818           0.0   \n",
      "1  U00002       3645000                 10    364500.000000           0.0   \n",
      "2  U00003      10079000                 11    916272.727273           1.0   \n",
      "3  U00004       4308000                  9    478666.666667           0.0   \n",
      "4  U00005       7952000                 10    795200.000000           0.0   \n",
      "\n",
      "   max_monthly_spending            home_location            work_location  \\\n",
      "0               3952000  (-6.412503, 106.785043)  (-6.601615, 106.804172)   \n",
      "1               2630000  (-7.260628, 112.746974)  (-7.969368, 112.625877)   \n",
      "2               5326000  (-6.278574, 106.973935)  (-6.399603, 106.788439)   \n",
      "3               2894000  (-6.596084, 106.803267)  (-6.274229, 106.990881)   \n",
      "4               4537000  (-6.408683, 106.793823)  (-6.587412, 106.807738)   \n",
      "\n",
      "   unique_merchants gender   income_level marital_status parental_status  \\\n",
      "0                11   Male  medium income         Single            None   \n",
      "1                10   Male  medium income         Single            None   \n",
      "2                11   Male    high income         Single            None   \n",
      "3                 9   Male  medium income         Single            None   \n",
      "4                10   Male  medium income         Single            None   \n",
      "\n",
      "   openness_score  conscientiousness_score  extraversion_score  \\\n",
      "0             0.4                      0.0                 0.9   \n",
      "1             0.2                      0.0                 0.6   \n",
      "2             0.3                      1.0                 1.7   \n",
      "3             0.3                      0.0                 0.7   \n",
      "4             0.4                      0.0                 1.4   \n",
      "\n",
      "   agreeableness_score  neuroticism_score  \n",
      "0                  0.8                0.1  \n",
      "1                  0.7                0.3  \n",
      "2                  0.9                0.0  \n",
      "3                  0.7                0.2  \n",
      "4                  0.7                0.2  \n"
     ]
    }
   ],
   "source": [
    "file = \"transactions.csv\"\n",
    "df = pd.read_csv(file)\n",
    "df['transaction_date'] = pd.to_datetime(df['transaction_date'], format='%Y-%m-%d')\n",
    "df['transaction_month'] = df['transaction_date'].dt.to_period('M')  # Format YYYY-MM\n",
    "df['transaction_day'] = df['transaction_date'].dt.day_name()\n",
    "\n",
    "df['transaction_amount'] = df['transaction_amount'].fillna(0).astype(int) * 10\n",
    "\n",
    "df['loyalty_program'] = df['loyalty_program'].map({'yes': True, 'no': False})\n",
    "\n",
    "def educational_background(row):\n",
    "    if row['payment_method'] == 'credit_card' and row['loyalty_program'] == True:\n",
    "        return 'Good'\n",
    "    elif row['payment_method'] == 'credit_card' or row['loyalty_program'] == True:\n",
    "        return 'Moderate'\n",
    "    else:\n",
    "        return 'Low'\n",
    "\n",
    "df['educational_background'] = df.apply(educational_background, axis=1)\n",
    "\n",
    "def gender(transaction_count):\n",
    "    return 'Female' if transaction_count > 11 else 'Male'\n",
    "\n",
    "def income_level(row):\n",
    "    if row['max_monthly_spending'] > 5000000:\n",
    "        return 'high income'\n",
    "    elif row['max_monthly_spending'] > 2500000:\n",
    "        return 'medium income'\n",
    "    else:\n",
    "        return 'low income'\n",
    "\n",
    "def age(user_agent):\n",
    "    if 'Android' in user_agent:\n",
    "        version_match = re.search(r'Android (\\d+(\\.\\d+)?)', user_agent)\n",
    "        if version_match and float(version_match.group(1)) < 10.0:\n",
    "            return '>30'\n",
    "        return '20 - 30'\n",
    "    elif 'iPhone' in user_agent or 'iPad' in user_agent:\n",
    "        version_match = re.search(r'OS (\\d+(\\_\\d+)?)', user_agent)\n",
    "        if version_match and float(version_match.group(1).replace('_', '.')) < 10:\n",
    "            return '>30'\n",
    "        return '20 - 30'\n",
    "    return 'Unknown'\n",
    "\n",
    "df['age'] = df['user_agent'].apply(age)\n",
    "\n",
    "def marital_status(row):\n",
    "    return 'Married' if row['total_amount'] > 5000000 and row['transaction_count'] > 11 else 'Single'\n",
    "\n",
    "def parental_status(row):\n",
    "    if row['total_amount'] > 7000000 and row['transaction_count'] > 11 and row['unique_merchants'] > 5:\n",
    "        return 'As Parent' \n",
    "    else :'Non-Parents'\n",
    "\n",
    "def get_user_locations(user_df):\n",
    "    home_location = user_df[user_df['day_type'] == 'weekend'].groupby(['latitude', 'longitude']).size().idxmax()\n",
    "    work_location = user_df[user_df['day_type'] == 'workday'].groupby(['latitude', 'longitude']).size().idxmax()\n",
    "    return home_location, work_location\n",
    "\n",
    "df['latitude'] = df['geo_location'].apply(lambda x: float(x.split(',')[0]))\n",
    "df['longitude'] = df['geo_location'].apply(lambda x: float(x.split(',')[1]))\n",
    "\n",
    "df['day_type'] = df['transaction_day'].apply(lambda x: 'weekend' if x in ['Saturday', 'Sunday'] else 'workday')\n",
    "\n",
    "user_locations = {}\n",
    "for user_id, user_data in df.groupby('user_id'):\n",
    "    try:\n",
    "        home_loc, work_loc = get_user_locations(user_data)\n",
    "    except ValueError:  # Jika transaksi hanya di satu jenis hari\n",
    "        home_loc, work_loc = (None, None)\n",
    "    \n",
    "    user_locations[user_id] = {\n",
    "        'home_location': home_loc,\n",
    "        'work_location': work_loc\n",
    "    }\n",
    "user_location_df = pd.DataFrame.from_dict(user_locations, orient='index', columns=['home_location', 'work_location']).reset_index()\n",
    "user_location_df.columns = ['user_id', 'home_location', 'work_location']\n",
    "\n",
    "def calculate_big_five_scores(df):\n",
    "    refund_rates = df.groupby('user_id')['is_refunded'].apply(lambda x: (x == 'yes').mean()).to_dict()\n",
    "    max_transaction_amount = df['transaction_amount'].max()\n",
    "    \n",
    "    scores = {'openness': [], 'conscientiousness': [], 'extraversion': [], 'agreeableness': [], 'neuroticism': []}\n",
    "    \n",
    "    for user_id, group in df.groupby('user_id'):\n",
    "        openness = len(group['merchant_category_id'].unique()) / len(df['merchant_category_id'].unique())\n",
    "        conscientiousness = (group['loyalty_program'] == True).mean()\n",
    "        extraversion = group['transaction_amount'].sum() / max_transaction_amount\n",
    "        agreeableness = (1 - refund_rates.get(user_id, 0)) * (group['merchant_rating'].mean() / 5)\n",
    "        neuroticism = ((group['is_refunded'] == 'yes') | (group['merchant_rating'] < 3)).mean()\n",
    "\n",
    "        scores['openness'].append((user_id, round(openness, 1)))\n",
    "        scores['conscientiousness'].append((user_id, round(conscientiousness, 1)))\n",
    "        scores['extraversion'].append((user_id, round(extraversion, 1)))\n",
    "        scores['agreeableness'].append((user_id, round(agreeableness, 1)))\n",
    "        scores['neuroticism'].append((user_id, round(neuroticism, 1)))\n",
    "\n",
    "    return pd.DataFrame({\n",
    "        'user_id': [x[0] for x in scores['openness']],\n",
    "        'openness_score': [x[1] for x in scores['openness']],\n",
    "        'conscientiousness_score': [x[1] for x in scores['conscientiousness']],\n",
    "        'extraversion_score': [x[1] for x in scores['extraversion']],\n",
    "        'agreeableness_score': [x[1] for x in scores['agreeableness']],\n",
    "        'neuroticism_score': [x[1] for x in scores['neuroticism']]\n",
    "    })\n",
    "\n",
    "big_five_scores = calculate_big_five_scores(df)\n",
    "\n",
    "user_summary = df.groupby('user_id').agg(\n",
    "    total_amount=('transaction_amount', 'sum'),\n",
    "    transaction_count=('transaction_amount', 'size'),\n",
    "    avg_transaction=('transaction_amount', 'mean'),\n",
    "    loyalty_used=('loyalty_program', 'mean')  # Rasio penggunaan loyalty program\n",
    ").reset_index()\n",
    "\n",
    "max_monthly_spending = df.groupby(['user_id', 'transaction_month'])['transaction_amount'].sum().groupby('user_id').max().reset_index()\n",
    "max_monthly_spending.rename(columns={'transaction_amount': 'max_monthly_spending'}, inplace=True)\n",
    "merchant_diversity = df.groupby('user_id')['merchant_id'].nunique().reset_index()\n",
    "merchant_diversity.columns = ['user_id', 'unique_merchants']\n",
    "\n",
    "# Gabungan semua informasi ke dalam user_summary\n",
    "user_summary = pd.merge(user_summary, big_five_scores, on='user_id')\n",
    "user_summary = pd.merge(user_summary, max_monthly_spending, on='user_id')\n",
    "user_summary = pd.merge(user_summary, user_location_df, on='user_id')\n",
    "user_summary = pd.merge(user_summary, merchant_diversity, on='user_id')\n",
    "\n",
    "user_summary['gender'] = user_summary['transaction_count'].apply(gender)\n",
    "user_summary['income_level'] = user_summary.apply(income_level, axis=1)\n",
    "user_summary['marital_status'] = user_summary.apply(marital_status, axis=1)\n",
    "user_summary['parental_status'] = user_summary.apply(parental_status, axis=1)\n",
    "\n",
    "# Tampilkan hasil akhir\n",
    "print(user_summary.head())\n",
    "\n"
   ]
  },
  {
   "cell_type": "code",
   "execution_count": 61,
   "metadata": {},
   "outputs": [
    {
     "name": "stdout",
     "output_type": "stream",
     "text": [
      "  user_id  max_monthly_spending working_status\n",
      "0  U00001              395200.0   Non-Employed\n",
      "1  U00002              263000.0   Non-Employed\n",
      "2  U00003              532600.0   Non-Employed\n",
      "3  U00004              289400.0   Non-Employed\n",
      "4  U00005              453700.0   Non-Employed\n"
     ]
    }
   ],
   "source": [
    "df['transaction_date'] = pd.to_datetime(df['transaction_date'])\n",
    "df['transaction_month'] = df['transaction_date'].dt.to_period('M')\n",
    "\n",
    "monthly_spending = df.groupby(['user_id', 'transaction_month'])['transaction_amount'].sum().reset_index()\n",
    "\n",
    "max_monthly_spending = monthly_spending.groupby('user_id')['transaction_amount'].max().reset_index()\n",
    "max_monthly_spending = max_monthly_spending.rename(columns={'transaction_amount': 'max_monthly_spending'})\n",
    "\n",
    "def working_status(row):\n",
    "    return 'Employed' if row['max_monthly_spending'] > 3000000 else 'Non-Employed'\n",
    "\n",
    "\n",
    "max_monthly_spending['working_status'] = max_monthly_spending.apply(working_status, axis=1)\n",
    "print(max_monthly_spending.head())\n"
   ]
  },
  {
   "cell_type": "code",
   "execution_count": 110,
   "metadata": {},
   "outputs": [
    {
     "name": "stdout",
     "output_type": "stream",
     "text": [
      "  user_id       health_status  max_monthly_spending working_status  \\\n",
      "0  U00001  High Health Status              39520000       Employed   \n",
      "1  U00002  High Health Status              26300000       Employed   \n",
      "2  U00003  High Health Status              53260000       Employed   \n",
      "3  U00004  High Health Status              28940000       Employed   \n",
      "4  U00005  High Health Status              45370000       Employed   \n",
      "\n",
      "  homeownership  \n",
      "0     Homeowner  \n",
      "1     Homeowner  \n",
      "2     Homeowner  \n",
      "3     Homeowner  \n",
      "4     Homeowner  \n"
     ]
    }
   ],
   "source": [
    "df['transaction_date'] = pd.to_datetime(df['transaction_date'])\n",
    "df['transaction_amount'] = df['transaction_amount'].fillna(0).astype(int) * 10\n",
    "df['month'] = df['transaction_date'].dt.to_period('M')\n",
    "monthly_expense = df.groupby(['user_id', 'month'])['transaction_amount'].sum().reset_index()\n",
    "user_avg_spending = monthly_expense.groupby('user_id')['transaction_amount'].mean().reset_index()\n",
    "user_avg_spending = user_avg_spending.rename(columns={'transaction_amount': 'avg_monthly_spending'})\n",
    "\n",
    "def segment_homeownership(avg_spending):\n",
    "    if avg_spending > 3000000:\n",
    "        return 'Homeowner'\n",
    "    elif avg_spending > 1500000:\n",
    "        return 'Renter'\n",
    "    else:\n",
    "        return 'Living with Family'\n",
    "\n",
    "user_avg_spending['homeownership'] = user_avg_spending['avg_monthly_spending'].apply(segment_homeownership)\n",
    "\n",
    "max_monthly_spending = monthly_expense.groupby('user_id')['transaction_amount'].max().reset_index()\n",
    "max_monthly_spending = max_monthly_spending.rename(columns={'transaction_amount': 'max_monthly_spending'})\n",
    "\n",
    "def working_status(amount):\n",
    "    return 'Employed' if amount > 1000000 else 'Non-Employed'\n",
    "\n",
    "max_monthly_spending['working_status'] = max_monthly_spending['max_monthly_spending'].apply(working_status)\n",
    "\n",
    "def monthly_health_status(amount):\n",
    "    if amount > 5000000:\n",
    "        return 'High Health Status'\n",
    "    elif 2000000 <= amount <= 5000000:\n",
    "        return 'Medium Health Status'\n",
    "    else:\n",
    "        return 'Low Health Status'\n",
    "\n",
    "monthly_expense['health_status'] = monthly_expense['transaction_amount'].apply(monthly_health_status)\n",
    "\n",
    "user_info = pd.merge(user_avg_spending[['user_id', 'homeownership']],\n",
    "                     max_monthly_spending[['user_id', 'max_monthly_spending', 'working_status']],\n",
    "                     on='user_id', how='left')\n",
    "\n",
    "user_info = pd.merge(user_info, \n",
    "                     monthly_expense[['user_id', 'health_status']].drop_duplicates('user_id'), \n",
    "                     on='user_id', how='left')\n",
    "\n",
    "print(user_info[['user_id', 'health_status', 'max_monthly_spending', 'working_status', 'homeownership']].sort_values(by='user_id').head())\n",
    "\n"
   ]
  },
  {
   "cell_type": "code",
   "execution_count": 71,
   "metadata": {},
   "outputs": [
    {
     "name": "stdout",
     "output_type": "stream",
     "text": [
      "  user_id  max_monthly_spending           industry_of_employment\n",
      "0  U10578               3213000  Healthcare/Education/Management\n",
      "1  U08353               4428000  Healthcare/Education/Management\n",
      "2  U04564               2860000  Healthcare/Education/Management\n",
      "3  U22797               1948000         Retail/Hospitality/Other\n",
      "4  U18053               1089000         Retail/Hospitality/Other\n"
     ]
    }
   ],
   "source": [
    "df['transaction_date'] = pd.to_datetime(df['transaction_date'])\n",
    "df['month'] = df['transaction_date'].dt.to_period('M')\n",
    "monthly_spending = df.groupby(['user_id', 'month'])['transaction_amount'].sum().reset_index()\n",
    "max_monthly_spending = monthly_spending.groupby('user_id')['transaction_amount'].max().reset_index()\n",
    "max_monthly_spending.rename(columns={'transaction_amount': 'max_monthly_spending'}, inplace=True)\n",
    "\n",
    "def industry_of_employment(row):\n",
    "    if row['max_monthly_spending'] > 5000000:\n",
    "        return 'Finance/Consulting/Technology'\n",
    "    elif row['max_monthly_spending'] > 2500000:\n",
    "        return 'Healthcare/Education/Management'\n",
    "    else:\n",
    "        return 'Retail/Hospitality/Other'\n",
    "\n",
    "max_monthly_spending['industry_of_employment'] = max_monthly_spending.apply(industry_of_employment, axis=1)\n",
    "df = pd.merge(df, max_monthly_spending[['user_id', 'max_monthly_spending', 'industry_of_employment']], on='user_id', how='left')\n",
    "print(df[['user_id', 'max_monthly_spending', 'industry_of_employment']].drop_duplicates().head())\n"
   ]
  },
  {
   "cell_type": "code",
   "execution_count": 115,
   "metadata": {},
   "outputs": [
    {
     "name": "stdout",
     "output_type": "stream",
     "text": [
      "Kolom di updated_data2.xlsx: Index(['Column1', 'Column2', 'Column3', 'home', 'work'], dtype='object')\n",
      "   user_id  home_location  work_location                     home  \\\n",
      "0  user_id  home_location  work_location                     home   \n",
      "1   U00001          Depok          Bogor  (-6.412503, 106.785043)   \n",
      "2   U00002       Surabaya         Malang  (-7.260628, 112.746974)   \n",
      "3   U00003         Bekasi          Depok  (-6.278574, 106.973935)   \n",
      "4   U00004          Bogor         Bekasi  (-6.596084, 106.803267)   \n",
      "\n",
      "                      work  \n",
      "0                     work  \n",
      "1  (-6.601615, 106.804172)  \n",
      "2  (-7.969368, 112.625877)  \n",
      "3  (-6.399603, 106.788439)  \n",
      "4  (-6.274229, 106.990881)  \n",
      "Kolom di transactions.csv: Index(['transaction_id', 'user_id', 'transaction_amount', 'transaction_date',\n",
      "       'merchant_id', 'merchant_name', 'merchant_category_id', 'geo_location',\n",
      "       'payment_method', 'user_agent', 'loyalty_program', 'discount_applied',\n",
      "       'promo_amount', 'transaction_notes', 'merchant_rating',\n",
      "       'transaction_status', 'is_refunded'],\n",
      "      dtype='object')\n",
      "   user_id  home_location  work_location  different_locations  \\\n",
      "0  user_id  home_location  work_location                 True   \n",
      "1   U00001          Depok          Bogor                 True   \n",
      "2   U00002       Surabaya         Malang                 True   \n",
      "3   U00003         Bekasi          Depok                 True   \n",
      "4   U00004          Bogor         Bekasi                 True   \n",
      "\n",
      "   monthly_spending vehicle_ownership  \n",
      "0               NaN      Owns vehicle  \n",
      "1     171533.333333      Owns vehicle  \n",
      "2     182250.000000      Owns vehicle  \n",
      "3     335966.666667      Owns vehicle  \n",
      "4     143600.000000      Owns vehicle  \n"
     ]
    }
   ],
   "source": [
    "file_path = 'updated_data2.xlsx'\n",
    "df = pd.read_excel(file_path)\n",
    "\n",
    "print(\"Kolom di updated_data2.xlsx:\", df.columns)\n",
    "\n",
    "# Rename kolom sesuai kebutuhan\n",
    "df = df.rename(columns={\n",
    "    'Column1': 'user_id',\n",
    "    'Column2': 'home_location',\n",
    "    'Column3': 'work_location'\n",
    "})\n",
    "\n",
    "print(df.head())\n",
    "\n",
    "def has_different_locations(row):\n",
    "    return row['home_location'] != row['work_location']\n",
    "\n",
    "df['different_locations'] = df.apply(has_different_locations, axis=1)\n",
    "\n",
    "vehicle_expense_threshold = 5000000\n",
    "\n",
    "transactions_file = 'transactions.csv'\n",
    "transactions_df = pd.read_csv(transactions_file)\n",
    "transactions_df['transaction_date'] = pd.to_datetime(transactions_df['transaction_date'], errors='coerce')\n",
    "transactions_df['month'] = transactions_df['transaction_date'].dt.to_period('M')\n",
    "monthly_spending = transactions_df.groupby(['user_id', 'month'])['transaction_amount'].sum().reset_index()\n",
    "\n",
    "avg_monthly_spending = monthly_spending.groupby('user_id')['transaction_amount'].mean().reset_index()\n",
    "avg_monthly_spending.columns = ['user_id', 'monthly_spending']\n",
    "\n",
    "\n",
    "df = df.merge(avg_monthly_spending, on='user_id', how='left')\n",
    "\n",
    "def vehicle_ownership(row):\n",
    "    if row['different_locations']:\n",
    "        return 'Owns vehicle'\n",
    "    elif row['monthly_spending'] > vehicle_expense_threshold:\n",
    "        return 'Owns vehicle'\n",
    "    else:\n",
    "        return 'No vehicle'\n",
    "    \n",
    "df['vehicle_ownership'] = df.apply(vehicle_ownership, axis=1)\n",
    "print(df[['user_id', 'home_location', 'work_location', 'different_locations', \n",
    "          'monthly_spending', 'vehicle_ownership']].head())\n",
    "\n",
    "# df.to_excel('vehicle_ownership_results.xlsx', index=False)\n"
   ]
  },
  {
   "cell_type": "markdown",
   "metadata": {},
   "source": [
    "User Segmentation"
   ]
  },
  {
   "cell_type": "markdown",
   "metadata": {},
   "source": [
    "Classic Segmentation"
   ]
  },
  {
   "cell_type": "code",
   "execution_count": 102,
   "metadata": {},
   "outputs": [
    {
     "name": "stdout",
     "output_type": "stream",
     "text": [
      "  user_id  spender_type  purchase_frequency  multiple_categories  \\\n",
      "0  U10578  High Spender                   4                    1   \n",
      "1  U08353  High Spender                   4                    1   \n",
      "2  U04564  High Spender                   3                    1   \n",
      "3  U22797   Low Spender                   5                    1   \n",
      "4  U18053   Low Spender                   5                    1   \n",
      "\n",
      "   is_bargain_hunter  is_merchant_loyal  refund_rate  activity_score  \n",
      "0                  0              False          0.0        3.666667  \n",
      "1                  0              False          0.0        5.000000  \n",
      "2                  0              False          0.0        3.666667  \n",
      "3                  0              False          0.0        3.333333  \n",
      "4                  0              False          0.0        3.000000  \n"
     ]
    }
   ],
   "source": [
    "file_path = \"transactions.csv\"\n",
    "dff = pd.read_csv(file_path)\n",
    "\n",
    "dff['transaction_date'] = pd.to_datetime(dff['transaction_date'])\n",
    "dff['transaction_month'] = dff['transaction_date'].dt.to_period('M')  # Ekstrak bulan\n",
    "dff['transaction_amount'] = pd.to_numeric(dff['transaction_amount'], errors='coerce').fillna(0)\n",
    "\n",
    "avg_spending_per_user = dff.groupby('user_id')['transaction_amount'].mean().reset_index()\n",
    "avg_spending_threshold = avg_spending_per_user['transaction_amount'].median()\n",
    "\n",
    "avg_spending_per_user['spender_type'] = avg_spending_per_user['transaction_amount'].apply(\n",
    "    lambda x: 'High Spender' if x > avg_spending_threshold else 'Low Spender'\n",
    ")\n",
    "dff = dff.merge(avg_spending_per_user[['user_id', 'spender_type']], on='user_id', how='left')\n",
    "monthly_purchase_freq = dff.groupby(['user_id', 'transaction_month']).size().reset_index(name='purchase_frequency')\n",
    "dff = dff.merge(monthly_purchase_freq, on=['user_id', 'transaction_month'], how='left')\n",
    "merchant_type_per_user = dff.groupby('user_id')['merchant_category_id'].nunique().reset_index()\n",
    "merchant_type_per_user['multiple_categories'] = merchant_type_per_user['merchant_category_id'].apply(\n",
    "    lambda x: 1 if x > 1 else 0\n",
    ")\n",
    "dff = dff.merge(merchant_type_per_user[['user_id', 'multiple_categories']], on='user_id', how='left')\n",
    "\n",
    "dff['discount_applied'] = pd.to_numeric(dff['discount_applied'], errors='coerce').fillna(0)\n",
    "dff['is_bargain_hunter'] = dff['discount_applied'].apply(lambda x: 1 if x == 'yes' else 0)\n",
    "dff['is_merchant_loyal'] = dff.groupby('user_id')['merchant_id'].transform(lambda x: x.nunique() == 1)\n",
    "dff['is_refunded'] = pd.to_numeric(dff['is_refunded'], errors='coerce').fillna(0)\n",
    "dff['refund_rate'] = dff.groupby('user_id')['is_refunded'].transform('mean')\n",
    "total_transactions_per_user = dff.groupby('user_id').size().reset_index(name='total_transactions')\n",
    "active_months_per_user = dff.groupby('user_id')['transaction_month'].nunique().reset_index(name='active_months')\n",
    "activity_score = total_transactions_per_user.merge(active_months_per_user, on='user_id')\n",
    "activity_score['activity_score'] = activity_score['total_transactions'] / activity_score['active_months']\n",
    "dff = dff.merge(activity_score[['user_id', 'activity_score']], on='user_id', how='left')\n",
    "\n",
    "print(dff[['user_id', 'spender_type', 'purchase_frequency', 'multiple_categories', \n",
    "           'is_bargain_hunter', 'is_merchant_loyal', 'refund_rate', 'activity_score']].head())\n"
   ]
  },
  {
   "cell_type": "markdown",
   "metadata": {},
   "source": [
    "RFM Analysis Segmentation"
   ]
  },
  {
   "cell_type": "code",
   "execution_count": 78,
   "metadata": {},
   "outputs": [
    {
     "name": "stdout",
     "output_type": "stream",
     "text": [
      "  user_id RFM_Segment  RFM_Score\n",
      "0  U00001         433         10\n",
      "1  U00002         434         11\n",
      "2  U00003         331          7\n",
      "3  U00004         443         11\n",
      "4  U00005         431          8\n"
     ]
    }
   ],
   "source": [
    "\n",
    "import datetime as dt\n",
    "df = pd.read_csv('transactions.csv')\n",
    "\n",
    "df['transaction_date'] = pd.to_datetime(df['transaction_date'])\n",
    "now = dt.datetime.now()\n",
    "\n",
    "rfm = df.groupby('user_id').agg({\n",
    "    'transaction_date': lambda x: (now - x.max()).days,  # Recency\n",
    "    'transaction_id': 'count',  # Frequency\n",
    "    'transaction_amount': 'sum'  # Monetary\n",
    "}).reset_index()\n",
    "rfm.columns = ['user_id', 'recency', 'frequency', 'monetary']\n",
    "\n",
    "rfm['R_Segment'] = pd.qcut(rfm['recency'], 4, labels=['1', '2', '3', '4']).astype(str)\n",
    "rfm['F_Segment'] = pd.qcut(rfm['frequency'].rank(method='first'), 4, labels=['4', '3', '2', '1']).astype(str)\n",
    "rfm['M_Segment'] = pd.qcut(rfm['monetary'], 4, labels=['4', '3', '2', '1']).astype(str)\n",
    "rfm['RFM_Segment'] = rfm['R_Segment'] + rfm['F_Segment'] + rfm['M_Segment']\n",
    "\n",
    "rfm['RFM_Score'] = rfm[['R_Segment', 'F_Segment', 'M_Segment']].astype(int).sum(axis=1)\n",
    "\n",
    "print(rfm[['user_id', 'RFM_Segment', 'RFM_Score']].head())\n"
   ]
  },
  {
   "cell_type": "code",
   "execution_count": 85,
   "metadata": {},
   "outputs": [
    {
     "data": {
      "image/png": "[encoded data removed]",
      "text/plain": [
       "<Figure size 1200x600 with 1 Axes>"
      ]
     },
     "metadata": {},
     "output_type": "display_data"
    }
   ],
   "source": [
    "import matplotlib.pyplot as plt\n",
    "import seaborn as sns\n",
    "\n",
    "# Plotting distribution of RFM Segments\n",
    "plt.figure(figsize=(12,6))\n",
    "rfm_segment_counts = rfm['RFM_Segment'].value_counts().head(10)  # Top 10 most frequent segments\n",
    "sns.barplot(x=rfm_segment_counts.index, y=rfm_segment_counts.values)\n",
    "plt.title('Top 10 Most Frequent RFM Segments')\n",
    "plt.xlabel('RFM Segment')\n",
    "plt.ylabel('Number of Users')\n",
    "plt.show()\n"
   ]
  },
  {
   "cell_type": "markdown",
   "metadata": {},
   "source": [
    "K-Means Clustering"
   ]
  },
  {
   "cell_type": "code",
   "execution_count": 95,
   "metadata": {},
   "outputs": [
    {
     "name": "stdout",
     "output_type": "stream",
     "text": [
      "user_id              0\n",
      "transaction_count    0\n",
      "total_amount         0\n",
      "discount_usage       0\n",
      "loyalty_member       0\n",
      "dtype: int64\n",
      "  user_id  transaction_count  total_amount  discount_usage  loyalty_member  \\\n",
      "0  U00001                 11      514600.0             0.0           False   \n",
      "1  U00002                 10      364500.0             0.0           False   \n",
      "2  U00003                 11     1007900.0             0.0            True   \n",
      "3  U00004                  9      430800.0             0.0           False   \n",
      "4  U00005                 10      795200.0             0.0           False   \n",
      "\n",
      "   Cluster  \n",
      "0        3  \n",
      "1        0  \n",
      "2        2  \n",
      "3        0  \n",
      "4        3  \n"
     ]
    },
    {
     "data": {
      "image/png": "[encoded data removed]",
      "text/plain": [
       "<Figure size 640x480 with 1 Axes>"
      ]
     },
     "metadata": {},
     "output_type": "display_data"
    }
   ],
   "source": [
    "import pandas as pd\n",
    "from sklearn.preprocessing import StandardScaler\n",
    "from sklearn.cluster import KMeans\n",
    "import matplotlib.pyplot as plt\n",
    "\n",
    "data = pd.read_csv('transactions.csv')\n",
    "\n",
    "data['loyalty_program'] = data['loyalty_program'].map({'yes': True, 'no': False})\n",
    "data['loyalty_program'] = data['loyalty_program'].fillna(False) \n",
    "\n",
    "\n",
    "user_data = data.groupby('user_id').agg({\n",
    "    'transaction_id': 'count',  \n",
    "    'transaction_amount': 'sum',\n",
    "    'discount_applied': 'sum', \n",
    "    'loyalty_program': 'max'  \n",
    "}).reset_index()\n",
    "user_data.columns = ['user_id', 'transaction_count', 'total_amount', 'discount_usage', 'loyalty_member']\n",
    "\n",
    "print(user_data.isna().sum())  # Periksa jumlah NaN di setiap kolom\n",
    "\n",
    "user_data['transaction_count'] = pd.to_numeric(user_data['transaction_count'], errors='coerce')\n",
    "user_data['total_amount'] = pd.to_numeric(user_data['total_amount'], errors='coerce')\n",
    "user_data['discount_usage'] = pd.to_numeric(user_data['discount_usage'], errors='coerce')\n",
    "user_data['loyalty_member'] = pd.to_numeric(user_data['loyalty_member'], errors='coerce')\n",
    "user_data.fillna(0, inplace=True)\n",
    "# Normalisasi data untuk K-Means\n",
    "scaler = StandardScaler()\n",
    "user_data_scaled = scaler.fit_transform(user_data[['transaction_count', 'total_amount', 'discount_usage', 'loyalty_member']])\n",
    "\n",
    "kmeans = KMeans(n_clusters=4, random_state=42)\n",
    "user_data['Cluster'] = kmeans.fit_predict(user_data_scaled)\n",
    "\n",
    "print(user_data[['user_id', 'transaction_count', 'total_amount', 'discount_usage', 'loyalty_member', 'Cluster']].head())\n",
    "\n",
    "for cluster in user_data['Cluster'].unique():\n",
    "    cluster_data = user_data[user_data['Cluster'] == cluster]\n",
    "    plt.scatter(cluster_data['transaction_count'], cluster_data['total_amount'], label=f'Cluster {cluster}')\n",
    "\n",
    "# Tambahkan judul, label sumbu, dan legend\n",
    "plt.title('K-Means Clustering of Users')\n",
    "plt.xlabel('Transaction Count')\n",
    "plt.ylabel('Total Amount')\n",
    "plt.legend(title='Cluster')\n",
    "plt.show()\n"
   ]
  },
  {
   "cell_type": "markdown",
   "metadata": {},
   "source": [
    "Bargain Hunter"
   ]
  },
  {
   "cell_type": "code",
   "execution_count": 103,
   "metadata": {},
   "outputs": [
    {
     "data": {
      "image/png": "[encoded data removed]",
      "text/plain": [
       "<Figure size 600x400 with 1 Axes>"
      ]
     },
     "metadata": {},
     "output_type": "display_data"
    }
   ],
   "source": [
    "import pandas as pd\n",
    "import matplotlib.pyplot as plt\n",
    "import seaborn as sns\n",
    "\n",
    "file_path = \"transactions.csv\"\n",
    "dff = pd.read_csv(file_path)\n",
    "\n",
    "dff['is_bargain_hunter'] = dff['discount_applied'].apply(lambda x: 1 if x == 'yes' else 0)\n",
    "\n",
    "bargain_hunters = dff.groupby('user_id')['is_bargain_hunter'].max().reset_index()\n",
    "bargain_counts = bargain_hunters['is_bargain_hunter'].value_counts()\n",
    "plt.figure(figsize=(6, 4))\n",
    "sns.barplot(x=bargain_counts.index, y=bargain_counts.values, palette='viridis')\n",
    "plt.xticks([0, 1], ['Non-Bargain Hunters', 'Bargain Hunters'])\n",
    "plt.title('Distribution of Bargain Hunters')\n",
    "plt.ylabel('Number of Users')\n",
    "plt.xlabel('User Type')\n",
    "plt.show()\n"
   ]
  },
  {
   "cell_type": "markdown",
   "metadata": {},
   "source": [
    "Spender Type"
   ]
  },
  {
   "cell_type": "code",
   "execution_count": 104,
   "metadata": {},
   "outputs": [
    {
     "data": {
      "image/png": "[encoded data removed]",
      "text/plain": [
       "<Figure size 600x400 with 1 Axes>"
      ]
     },
     "metadata": {},
     "output_type": "display_data"
    }
   ],
   "source": [
    "import pandas as pd\n",
    "import matplotlib.pyplot as plt\n",
    "import seaborn as sns\n",
    "\n",
    "file_path = \"transactions.csv\"\n",
    "dff = pd.read_csv(file_path)\n",
    "\n",
    "dff['transaction_amount'] = pd.to_numeric(dff['transaction_amount'], errors='coerce').fillna(0)\n",
    "\n",
    "avg_spending_per_user = dff.groupby('user_id')['transaction_amount'].mean().reset_index()\n",
    "avg_spending_threshold = avg_spending_per_user['transaction_amount'].median()\n",
    "\n",
    "avg_spending_per_user['spender_type'] = avg_spending_per_user['transaction_amount'].apply(\n",
    "    lambda x: 'High Spender' if x > avg_spending_threshold else 'Low Spender'\n",
    ")\n",
    "\n",
    "spender_counts = avg_spending_per_user['spender_type'].value_counts()\n",
    "\n",
    "# 4. Plot hasil dengan bar plot\n",
    "plt.figure(figsize=(6, 4))\n",
    "sns.barplot(x=spender_counts.index, y=spender_counts.values, palette='viridis')\n",
    "plt.title('Distribution of High Spenders vs Low Spenders')\n",
    "plt.ylabel('Number of Users')\n",
    "plt.xlabel('Spender Type')\n",
    "\n",
    "# Tampilkan plot\n",
    "plt.show()\n"
   ]
  }
 ],
 "metadata": {
  "kernelspec": {
   "display_name": "Python 3",
   "language": "python",
   "name": "python3"
  },
  "language_info": {
   "codemirror_mode": {
    "name": "ipython",
    "version": 3
   },
   "file_extension": ".py",
   "mimetype": "text/x-python",
   "name": "python",
   "nbconvert_exporter": "python",
   "pygments_lexer": "ipython3",
   "version": "3.11.4"
  }
 },
 "nbformat": 4,
 "nbformat_minor": 2
}
